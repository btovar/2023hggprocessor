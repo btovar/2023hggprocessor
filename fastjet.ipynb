{
 "cells": [
  {
   "cell_type": "code",
   "execution_count": 1,
   "id": "45fb203c-38d5-4832-b1de-cc0b84daf97c",
   "metadata": {},
   "outputs": [],
   "source": [
    "from coffea.nanoevents import NanoEventsFactory, BaseSchema, PFNanoAODSchema\n",
    "import json\n",
    "import fastjet\n",
    "import numpy as np\n",
    "import awkward as ak\n",
    "from coffea import processor\n",
    "import hist\n",
    "import coffea.nanoevents.methods.vector as vector\n",
    "import warnings\n",
    "import hist.dask as dhist\n",
    "import dask\n",
    "import pickle\n",
    "import os\n",
    "import dask_awkward as dak"
   ]
  },
  {
   "cell_type": "code",
   "execution_count": 2,
   "id": "7489b888-51a3-4d73-ab41-6a3506a70f23",
   "metadata": {},
   "outputs": [],
   "source": [
    "warnings.filterwarnings(\"ignore\", \"Found duplicate branch\")\n",
    "warnings.filterwarnings(\"ignore\", \"Missing cross-reference index for\")\n",
    "warnings.filterwarnings(\"ignore\", \"dcut\")\n",
    "warnings.filterwarnings(\"ignore\", \"Please ensure\")"
   ]
  },
  {
   "cell_type": "code",
   "execution_count": 3,
   "id": "773d27c4-dc22-43f9-93f3-de8d4d5d2cb1",
   "metadata": {},
   "outputs": [
    {
     "name": "stdout",
     "output_type": "stream",
     "text": [
      "2024.1.1\n",
      "2.5.2\n",
      "2024.1.1\n"
     ]
    }
   ],
   "source": [
    "import coffea\n",
    "print(coffea.__version__)\n",
    "print(ak.__version__)\n",
    "print(dak.__version__)"
   ]
  },
  {
   "cell_type": "code",
   "execution_count": 4,
   "id": "5fbfaf58-cdf0-4cf9-977b-d6c77d4fc1fe",
   "metadata": {},
   "outputs": [],
   "source": [
    "with open('../filelists/hbb_files.txt', 'r') as f:\n",
    "    hbb_files = [line.strip() for line in f]\n",
    "hbb = NanoEventsFactory.from_root(\n",
    "    {'/project01/ndcms/cmoore24/signal/hbb/' + hbb_files[0]: \"/Events\"},\n",
    "    #permit_dask=True,\n",
    "    schemaclass=PFNanoAODSchema,\n",
    "    metadata={\"dataset\": \"Hbb\"},\n",
    ").events()"
   ]
  },
  {
   "cell_type": "code",
   "execution_count": 5,
   "id": "526181ee-0269-4b23-9d09-18ce703a8cf5",
   "metadata": {},
   "outputs": [],
   "source": [
    "fatjet = hbb.FatJet\n",
    "cut = ((fatjet.pt > 300) & (fatjet.msoftdrop > 110) & \n",
    "       (fatjet.msoftdrop < 140) & (abs(fatjet.eta) < 2.4)) #& (fatjet.btagDDBvLV2 > 0.89)\n",
    "slimmed = hbb.FatJet[cut]"
   ]
  },
  {
   "cell_type": "code",
   "execution_count": 6,
   "id": "68917b8f-f6ed-4ec0-ac91-27d2f2e354be",
   "metadata": {},
   "outputs": [],
   "source": [
    "def color_ring(fatjet, variant=False, groomed=False):\n",
    "    pf = ak.flatten(fatjet.constituents.pf, axis=1)\n",
    "    if groomed==True:\n",
    "        jetdef = fastjet.JetDefinition(fastjet.cambridge_algorithm, 0.8)\n",
    "        cluster = fastjet.ClusterSequence(pf, jetdef)\n",
    "        softdrop = cluster.exclusive_jets_softdrop_grooming()\n",
    "        pf = softdrop.constituents\n",
    "    jetdef = fastjet.JetDefinition(fastjet.cambridge_algorithm, 0.2)\n",
    "    cluster = fastjet.ClusterSequence(pf, jetdef)\n",
    "    #subjets = cluster.exclusive_subjets_up_to(data=cluster.exclusive_jets(n_jets=1), nsub=3) #legacy\n",
    "    subjets = cluster.inclusive_jets()\n",
    "    vec = ak.zip({\n",
    "        \"x\": subjets.px,\n",
    "        \"y\": subjets.py,\n",
    "        \"z\": subjets.pz,\n",
    "        \"t\": subjets.E,\n",
    "        },\n",
    "        with_name = \"LorentzVector\",\n",
    "        behavior=vector.behavior,\n",
    "        )\n",
    "    vec = ak.pad_none(vec, 3)\n",
    "    vec[\"norm3\"] = np.sqrt(vec.dot(vec))\n",
    "    vec[\"idx\"] = ak.local_index(vec)\n",
    "    # i, j = ak.unzip(ak.combinations(vec, 2))\n",
    "    # best = ak.argmax((i + j).mass, axis=1, keepdims=True)\n",
    "    # leg1, leg2 = ak.firsts(i[best]), ak.firsts(j[best])\n",
    "    # leg3 = ak.firsts(vec[(vec.idx != leg1.idx) & (vec.idx != leg2.idx)]) #new\n",
    "    i, j, k = ak.unzip(ak.combinations(vec, 3))\n",
    "    best = ak.argmin(abs((i + j + k).mass - 125), axis=1, keepdims=True)\n",
    "    order_check = ak.concatenate([i[best].mass, j[best].mass, k[best].mass], axis=1)\n",
    "    largest = ak.argmax(order_check, axis=1, keepdims=True)\n",
    "    smallest = ak.argmin(order_check, axis=1, keepdims=True)\n",
    "    leading_particles = ak.concatenate([i[best], j[best], k[best]], axis=1)\n",
    "    leg1 = leading_particles[largest]\n",
    "    leg3 = leading_particles[smallest]\n",
    "    leg2 = leading_particles[(leading_particles.idx != ak.flatten(leg1.idx)) & (leading_particles.idx != ak.flatten(leg3.idx))]\n",
    "    leg1 = ak.firsts(leg1)\n",
    "    leg2 = ak.firsts(leg2)\n",
    "    leg3 = ak.firsts(leg3)\n",
    "    a12 = np.arccos(leg1.dot(leg2) / (leg1.norm3 * leg2.norm3))\n",
    "    a13 = np.arccos(leg1.dot(leg3) / (leg1.norm3 * leg3.norm3))\n",
    "    a23 = np.arccos(leg2.dot(leg3) / (leg2.norm3 * leg3.norm3))\n",
    "    if variant == False:\n",
    "        color_ring = ((a13**2 + a23**2)/(a12**2))\n",
    "    else: \n",
    "        color_ring = a13**2 + a23**2 - a12**2\n",
    "    return color_ring"
   ]
  },
  {
   "cell_type": "code",
   "execution_count": 7,
   "id": "16416c62-566f-4594-9422-4ce0426d9be9",
   "metadata": {},
   "outputs": [],
   "source": [
    "uf_cr = ak.unflatten(color_ring(slimmed), counts=ak.num(slimmed))"
   ]
  },
  {
   "cell_type": "code",
   "execution_count": 8,
   "id": "d970621f-73fb-486d-888a-9c3456db3127",
   "metadata": {},
   "outputs": [
    {
     "data": {
      "text/plain": [
       "dask.awkward<unflatten, npartitions=1>"
      ]
     },
     "execution_count": 8,
     "metadata": {},
     "output_type": "execute_result"
    }
   ],
   "source": [
    "uf_cr"
   ]
  },
  {
   "cell_type": "code",
   "execution_count": 9,
   "id": "98bdc694-7e7e-4cf2-a765-abb36f5a94e6",
   "metadata": {},
   "outputs": [
    {
     "data": {
      "text/plain": [
       "{'from-uproot-eb097cdb8f255639280992ed28d8dcb4': frozenset({'FatJetPFCands_pFCandsIdx',\n",
       "            'FatJet_eta',\n",
       "            'FatJet_msoftdrop',\n",
       "            'FatJet_nConstituents',\n",
       "            'FatJet_pt',\n",
       "            'PFCands_eta',\n",
       "            'PFCands_mass',\n",
       "            'PFCands_phi',\n",
       "            'PFCands_pt',\n",
       "            'nFatJet',\n",
       "            'nFatJetPFCands',\n",
       "            'nPFCands'})}"
      ]
     },
     "execution_count": 9,
     "metadata": {},
     "output_type": "execute_result"
    }
   ],
   "source": [
    "dak.necessary_columns(uf_cr)"
   ]
  },
  {
   "cell_type": "code",
   "execution_count": 11,
   "id": "b5faab68-67a3-4906-8263-7474a6ce49de",
   "metadata": {},
   "outputs": [],
   "source": [
    "a = ak.flatten(uf_cr.compute())"
   ]
  },
  {
   "cell_type": "code",
   "execution_count": 12,
   "id": "a2653db4-474f-472e-8eb9-ba179b59a314",
   "metadata": {},
   "outputs": [
    {
     "data": {
      "text/html": [
       "<pre>[2,\n",
       " 1.39,\n",
       " 0.813,\n",
       " 0.935,\n",
       " 2.08,\n",
       " 3.05,\n",
       " 1.18,\n",
       " 1.02,\n",
       " 3.76,\n",
       " 2.32,\n",
       " ...,\n",
       " 6.59,\n",
       " 7.53,\n",
       " 2.79,\n",
       " 1.67,\n",
       " 1.6,\n",
       " 2.43,\n",
       " 17.6,\n",
       " 2.58,\n",
       " 1.44]\n",
       "--------------------\n",
       "type: 889 * ?float64</pre>"
      ],
      "text/plain": [
       "<Array [2, 1.39, 0.813, 0.935, ..., 17.6, 2.58, 1.44] type='889 * ?float64'>"
      ]
     },
     "execution_count": 12,
     "metadata": {},
     "output_type": "execute_result"
    }
   ],
   "source": [
    "a"
   ]
  },
  {
   "cell_type": "code",
   "execution_count": null,
   "id": "5b8f388f-045e-499d-bb77-8f81638769ff",
   "metadata": {},
   "outputs": [],
   "source": []
  }
 ],
 "metadata": {
  "kernelspec": {
   "display_name": "Python 3 (ipykernel)",
   "language": "python",
   "name": "python3"
  },
  "language_info": {
   "codemirror_mode": {
    "name": "ipython",
    "version": 3
   },
   "file_extension": ".py",
   "mimetype": "text/x-python",
   "name": "python",
   "nbconvert_exporter": "python",
   "pygments_lexer": "ipython3",
   "version": "3.9.18"
  }
 },
 "nbformat": 4,
 "nbformat_minor": 5
}
